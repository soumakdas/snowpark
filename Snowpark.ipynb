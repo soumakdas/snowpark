{
 "cells": [
  {
   "cell_type": "code",
   "execution_count": 46,
   "id": "ed1eaaeb",
   "metadata": {},
   "outputs": [],
   "source": [
    "from snowflake.snowpark import Session"
   ]
  },
  {
   "cell_type": "code",
   "execution_count": 47,
   "id": "dc403823",
   "metadata": {},
   "outputs": [],
   "source": [
    "connection_parameters = {\n",
    "      \"account\": \"jz67626.ap-southeast-1\",\n",
    "      \"user\": \"soumakdas\",\n",
    "      \"password\": \"Soumak94\",\n",
    "    \"role\": \"ACCOUNTADMIN\",\n",
    "      \"warehouse\": \"ETL_WH\",\n",
    "      \"database\": \"STREAM_DEMO\",\n",
    "      \"schema\": \"PUBLIC\"\n",
    "   }"
   ]
  },
  {
   "cell_type": "code",
   "execution_count": 58,
   "id": "a6c7e261",
   "metadata": {},
   "outputs": [],
   "source": [
    "new_session = Session.builder.configs(connection_parameters).create()"
   ]
  },
  {
   "cell_type": "code",
   "execution_count": 59,
   "id": "35dd12d4",
   "metadata": {},
   "outputs": [
    {
     "data": {
      "text/plain": [
       "[Row(status='Table SAMPLE_PRODUCT_DATA successfully created.')]"
      ]
     },
     "execution_count": 59,
     "metadata": {},
     "output_type": "execute_result"
    }
   ],
   "source": [
    "new_session.sql('CREATE OR REPLACE TABLE sample_product_data (id INT, parent_id INT, category_id INT, name VARCHAR, serial_number VARCHAR, key INT, \"3rd\" INT)').collect()"
   ]
  },
  {
   "cell_type": "code",
   "execution_count": 54,
   "id": "cf50af0e",
   "metadata": {},
   "outputs": [
    {
     "data": {
      "text/plain": [
       "[Row(status='SAMPLE_PRODUCT_DATA successfully dropped.')]"
      ]
     },
     "execution_count": 54,
     "metadata": {},
     "output_type": "execute_result"
    }
   ],
   "source": [
    "new_session.sql(\"drop TABLE sample_product_data\").collect()\n"
   ]
  },
  {
   "cell_type": "code",
   "execution_count": 62,
   "id": "5abc2686",
   "metadata": {},
   "outputs": [
    {
     "data": {
      "text/plain": [
       "[Row(ID=1, PARENT_ID=0, CATEGORY_ID=5, NAME='Product 1', SERIAL_NUMBER='prod-1', KEY=1, 3rd=10),\n",
       " Row(ID=2, PARENT_ID=1, CATEGORY_ID=5, NAME='Product 1A', SERIAL_NUMBER='prod-1-A', KEY=1, 3rd=20),\n",
       " Row(ID=3, PARENT_ID=1, CATEGORY_ID=5, NAME='Product 1B', SERIAL_NUMBER='prod-1-B', KEY=1, 3rd=30),\n",
       " Row(ID=4, PARENT_ID=0, CATEGORY_ID=10, NAME='Product 2', SERIAL_NUMBER='prod-2', KEY=2, 3rd=40),\n",
       " Row(ID=5, PARENT_ID=4, CATEGORY_ID=10, NAME='Product 2A', SERIAL_NUMBER='prod-2-A', KEY=2, 3rd=50),\n",
       " Row(ID=6, PARENT_ID=4, CATEGORY_ID=10, NAME='Product 2B', SERIAL_NUMBER='prod-2-B', KEY=2, 3rd=60),\n",
       " Row(ID=7, PARENT_ID=0, CATEGORY_ID=20, NAME='Product 3', SERIAL_NUMBER='prod-3', KEY=3, 3rd=70),\n",
       " Row(ID=8, PARENT_ID=7, CATEGORY_ID=20, NAME='Product 3A', SERIAL_NUMBER='prod-3-A', KEY=3, 3rd=80),\n",
       " Row(ID=9, PARENT_ID=7, CATEGORY_ID=20, NAME='Product 3B', SERIAL_NUMBER='prod-3-B', KEY=3, 3rd=90),\n",
       " Row(ID=10, PARENT_ID=0, CATEGORY_ID=50, NAME='Product 4', SERIAL_NUMBER='prod-4', KEY=4, 3rd=100),\n",
       " Row(ID=11, PARENT_ID=10, CATEGORY_ID=50, NAME='Product 4A', SERIAL_NUMBER='prod-4-A', KEY=4, 3rd=100),\n",
       " Row(ID=12, PARENT_ID=10, CATEGORY_ID=50, NAME='Product 4B', SERIAL_NUMBER='prod-4-B', KEY=4, 3rd=100)]"
      ]
     },
     "execution_count": 62,
     "metadata": {},
     "output_type": "execute_result"
    }
   ],
   "source": [
    "new_session.sql(\"select * from sample_product_data\").collect()"
   ]
  },
  {
   "cell_type": "code",
   "execution_count": 61,
   "id": "f3d371ed",
   "metadata": {},
   "outputs": [
    {
     "data": {
      "text/plain": [
       "[Row(number of rows inserted=12)]"
      ]
     },
     "execution_count": 61,
     "metadata": {},
     "output_type": "execute_result"
    }
   ],
   "source": [
    "new_session.sql(\"INSERT INTO sample_product_data VALUES \\\n",
    "(1, 0, 5, 'Product 1', 'prod-1', 1, 10),\\\n",
    "(2, 1, 5, 'Product 1A', 'prod-1-A', 1, 20),\\\n",
    "  (3, 1, 5, 'Product 1B', 'prod-1-B', 1, 30),\\\n",
    "  (4, 0, 10, 'Product 2', 'prod-2', 2, 40),\\\n",
    "  (5, 4, 10, 'Product 2A', 'prod-2-A', 2, 50),\\\n",
    "  (6, 4, 10, 'Product 2B', 'prod-2-B', 2, 60),\\\n",
    "  (7, 0, 20, 'Product 3', 'prod-3', 3, 70),\\\n",
    "  (8, 7, 20, 'Product 3A', 'prod-3-A', 3, 80),\\\n",
    "  (9, 7, 20, 'Product 3B', 'prod-3-B', 3, 90),\\\n",
    "  (10, 0, 50, 'Product 4', 'prod-4', 4, 100),\\\n",
    "  (11, 10, 50, 'Product 4A', 'prod-4-A', 4, 100),\\\n",
    "  (12, 10, 50, 'Product 4B', 'prod-4-B', 4, 100)\").collect()"
   ]
  },
  {
   "cell_type": "code",
   "execution_count": 64,
   "id": "886af59d",
   "metadata": {},
   "outputs": [
    {
     "data": {
      "text/plain": [
       "[Row(status='Stage area MY_NEW_STAGE_FOR_SNOWPARK successfully created.')]"
      ]
     },
     "execution_count": 64,
     "metadata": {},
     "output_type": "execute_result"
    }
   ],
   "source": [
    "new_session.sql(\"create stage my_new_stage_for_snowpark\").collect()"
   ]
  },
  {
   "cell_type": "code",
   "execution_count": 65,
   "id": "b4fe98c9",
   "metadata": {},
   "outputs": [
    {
     "data": {
      "text/plain": [
       "[Row(created_on=datetime.datetime(2023, 9, 6, 9, 53, 16, 785000, tzinfo=<DstTzInfo 'America/Los_Angeles' PDT-1 day, 17:00:00 DST>), name='MY_NEW_STAGE_FOR_SNOWPARK', database_name='STREAM_DEMO', schema_name='PUBLIC', url='', has_credentials='N', has_encryption_key='N', owner='ACCOUNTADMIN', comment='', region=None, type='INTERNAL', cloud=None, notification_channel=None, storage_integration=None, owner_role_type='ROLE')]"
      ]
     },
     "execution_count": 65,
     "metadata": {},
     "output_type": "execute_result"
    }
   ],
   "source": [
    "new_session.sql(\"show stages\").collect()"
   ]
  },
  {
   "cell_type": "code",
   "execution_count": null,
   "id": "6b503537",
   "metadata": {},
   "outputs": [],
   "source": []
  }
 ],
 "metadata": {
  "kernelspec": {
   "display_name": "Python 3 (ipykernel)",
   "language": "python",
   "name": "python3"
  },
  "language_info": {
   "codemirror_mode": {
    "name": "ipython",
    "version": 3
   },
   "file_extension": ".py",
   "mimetype": "text/x-python",
   "name": "python",
   "nbconvert_exporter": "python",
   "pygments_lexer": "ipython3",
   "version": "3.8.17"
  }
 },
 "nbformat": 4,
 "nbformat_minor": 5
}
